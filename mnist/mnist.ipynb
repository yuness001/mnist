{
  "nbformat": 4,
  "nbformat_minor": 0,
  "metadata": {
    "colab": {
      "name": "trash",
      "provenance": [],
      "collapsed_sections": []
    },
    "kernelspec": {
      "display_name": "Python 3",
      "name": "python3"
    },
    "language_info": {
      "name": "python"
    },
    "accelerator": "TPU"
  },
  "cells": [
    {
      "cell_type": "code",
      "source": [
        "import tensorflow as tf\n",
        "mnist=tf.keras.datasets.mnist"
      ],
      "metadata": {
        "id": "50fql2jJ8xYM"
      },
      "execution_count": 13,
      "outputs": []
    },
    {
      "cell_type": "code",
      "source": [
        "(x_train,y_train),(x_test,y_test)=mnist.load_data()"
      ],
      "metadata": {
        "id": "3y618QAW8456"
      },
      "execution_count": 14,
      "outputs": []
    },
    {
      "cell_type": "code",
      "source": [
        "x_train,x_test=x_train/255.,x_test/255."
      ],
      "metadata": {
        "id": "w2mqocTI9Jtx"
      },
      "execution_count": 15,
      "outputs": []
    },
    {
      "cell_type": "code",
      "source": [
        "model=tf.keras.models.Sequential([\n",
        "     tf.keras.layers.Flatten(input_shape=(28,28)),\n",
        "     tf.keras.layers.Dense(512,activation=tf.nn.relu),\n",
        "     tf.keras.layers.Dropout(0.2),\n",
        "     tf.keras.layers.Dense(10,activation=tf.nn.softmax)\n",
        "                                  ])"
      ],
      "metadata": {
        "id": "B7vTjO159M-K"
      },
      "execution_count": 16,
      "outputs": []
    },
    {
      "cell_type": "code",
      "source": [
        "# we can do this instead\n",
        "'''\n",
        "from tensorflow.keras.layers import Flatten,Dense,Dropout\n",
        "from tensorflow.keras.models import Sequential\n",
        "model1=Sequential([\n",
        "     Flatten(input_shape=(28,28)),\n",
        "     Dense(512,activation=tf.nn.relu),\n",
        "     Dropout(0.2),\n",
        "     Dense(10,activation=tf.nn.softmax)\n",
        "                                  ])\n",
        "'''"
      ],
      "metadata": {
        "id": "qktDjXv__nQ2"
      },
      "execution_count": null,
      "outputs": []
    },
    {
      "cell_type": "code",
      "source": [
        "model.compile(optimizer='adam',\n",
        "              loss='sparse_categorical_crossentropy',\n",
        "              metrics=['accuracy'])"
      ],
      "metadata": {
        "id": "_rzAHzKE_0kB"
      },
      "execution_count": 18,
      "outputs": []
    },
    {
      "cell_type": "code",
      "source": [
        "model.fit(x_train,y_train,epochs=3)"
      ],
      "metadata": {
        "colab": {
          "base_uri": "https://localhost:8080/"
        },
        "id": "FAr22KRmHNbo",
        "outputId": "3262aa60-c7f5-45a9-ed96-25b613fe8d3f"
      },
      "execution_count": 19,
      "outputs": [
        {
          "output_type": "stream",
          "name": "stdout",
          "text": [
            "Epoch 1/3\n",
            "1875/1875 [==============================] - 11s 6ms/step - loss: 0.2183 - accuracy: 0.9358\n",
            "Epoch 2/3\n",
            "1875/1875 [==============================] - 10s 5ms/step - loss: 0.0959 - accuracy: 0.9704\n",
            "Epoch 3/3\n",
            "1875/1875 [==============================] - 10s 5ms/step - loss: 0.0672 - accuracy: 0.9788\n"
          ]
        },
        {
          "output_type": "execute_result",
          "data": {
            "text/plain": [
              "<keras.callbacks.History at 0x7fd5f9593650>"
            ]
          },
          "metadata": {},
          "execution_count": 19
        }
      ]
    },
    {
      "cell_type": "code",
      "source": [
        ""
      ],
      "metadata": {
        "id": "qgZRrI4zHdUo"
      },
      "execution_count": null,
      "outputs": []
    }
  ]
}